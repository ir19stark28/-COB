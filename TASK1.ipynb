{
 "cells": [
  {
   "cell_type": "markdown",
   "metadata": {},
   "source": [
    "IMPORTING DEPENDENCIES"
   ]
  },
  {
   "cell_type": "code",
   "execution_count": null,
   "metadata": {},
   "outputs": [],
   "source": [
    "import pandas as pd\n",
    "import requests\n",
    "from datetime import datetime, timedelta"
   ]
  },
  {
   "cell_type": "code",
   "execution_count": null,
   "metadata": {},
   "outputs": [],
   "source": [
    "# Replace 'YOUR_API_KEY' with the actual OpenWeatherMap API key\n",
    "API_KEY = 'f196358787321631bdd068560c038a4b'\n",
    "\n",
    "# List of major cities in India\n",
    "INDIAN_CITIES = ['Mumbai', 'Delhi', 'Kolkata', 'Chennai', 'Bengaluru', 'Hyderabad', 'Ahmedabad', 'Pune', 'Surat',\n",
    "                 'Jaipur', 'Lucknow', 'Kanpur', 'Nagpur', 'Indore', 'Thane', 'Bhopal', 'Visakhapatnam', 'Pimpri-Chinchwad',\n",
    "                 'Patna', 'Vadodara', 'Ludhiana', 'Agra', 'Coimbatore', 'Varanasi', 'Kochi', 'Amritsar', 'Nashik',\n",
    "                 'Vijayawada', 'Madurai', 'Meerut', 'Rajkot', 'Jabalpur', 'Srinagar', 'Allahabad', 'Howrah', 'Dhanbad',\n",
    "                 'Ranchi', 'Gwalior', 'Jodhpur', 'Raipur']\n",
    "# Add or remove cities as needed\n",
    "\n",
    "# OpenWeatherMap API endpoint for historical weather data (16 days forecast)\n",
    "api_url = 'http://api.openweathermap.org/data/2.5/forecast?q={}&appid={}'.format('{}', API_KEY)"
   ]
  },
  {
   "cell_type": "markdown",
   "metadata": {},
   "source": []
  },
  {
   "cell_type": "code",
   "execution_count": null,
   "metadata": {},
   "outputs": [],
   "source": [
    "\n",
    "# Fetch data for each city\n",
    "weather_data = []\n",
    "for city in INDIAN_CITIES:\n",
    "    city_api_url = api_url.format(city)\n",
    "    response = requests.get(city_api_url)\n",
    "    data = response.json()\n",
    "\n",
    "    try:\n",
    "        for entry in data['list']:\n",
    "            timestamp = entry['dt']\n",
    "            date = datetime.utcfromtimestamp(timestamp)\n",
    "\n",
    "            # Numerical features\n",
    "            temperature = entry['main']['temp']\n",
    "            humidity = entry['main']['humidity']\n",
    "\n",
    "            # Categorical feature\n",
    "            description = entry['weather'][0]['description']\n",
    "\n",
    "            # Append to the dataset\n",
    "            weather_data.append({\n",
    "                'City': city,\n",
    "                'Timestamp': date,\n",
    "                'Temperature': temperature,\n",
    "                'Humidity': humidity,\n",
    "                'Description': description\n",
    "            })\n",
    "\n",
    "    except KeyError as e:\n",
    "        print(f\"KeyError for {city}: {e}. Please inspect the response structure and adjust the code accordingly.\")"
   ]
  },
  {
   "cell_type": "code",
   "execution_count": null,
   "metadata": {},
   "outputs": [],
   "source": [
    "# Create a Pandas DataFrame if data extraction was successful\n",
    "if weather_data:\n",
    "    new_df = pd.DataFrame(weather_data)\n",
    "\n",
    "    # Load the existing dataset, if it exists\n",
    "    try:\n",
    "        existing_df = pd.read_csv('weatherindia.csv')\n",
    "    except FileNotFoundError:\n",
    "        existing_df = pd.DataFrame()\n",
    "\n",
    "    # Concatenate the existing and new dataframes\n",
    "    combined_df = pd.concat([existing_df, new_df], ignore_index=True)\n",
    "\n",
    "    # Save the combined DataFrame to the same CSV file\n",
    "    csv_filename = 'weatherindia.csv'\n",
    "    combined_df.to_csv(csv_filename, index=False)\n",
    "\n",
    "    print(f'Data appended and saved to {csv_filename}')\n",
    "else:\n",
    "    print(\"Failed.\")\n"
   ]
  }
 ],
 "metadata": {
  "kernelspec": {
   "display_name": "Python 3",
   "language": "python",
   "name": "python3"
  },
  "language_info": {
   "codemirror_mode": {
    "name": "ipython",
    "version": 3
   },
   "file_extension": ".py",
   "mimetype": "text/x-python",
   "name": "python",
   "nbconvert_exporter": "python",
   "pygments_lexer": "ipython3",
   "version": "3.11.5"
  }
 },
 "nbformat": 4,
 "nbformat_minor": 2
}
