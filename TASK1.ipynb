{
  "cells": [
    {
      "cell_type": "markdown",
      "metadata": {
        "id": "Gda5KHA0E-qk"
      },
      "source": [
        "IMPORTING DEPENDENCIES"
      ]
    },
    {
      "cell_type": "code",
      "execution_count": null,
      "metadata": {
        "id": "b8vlHa2RE-qp"
      },
      "outputs": [],
      "source": [
        "import pandas as pd\n",
        "import requests\n",
        "from datetime import datetime, timedelta"
      ]
    },
    {
      "cell_type": "markdown",
      "metadata": {
        "id": "oESmwaGkE-qr"
      },
      "source": [
        "INITIALIZING API KEY(WEATHER API)"
      ]
    },
    {
      "cell_type": "code",
      "execution_count": null,
      "metadata": {
        "id": "h4MUOmE8E-qr"
      },
      "outputs": [],
      "source": [
        "# Replace 'YOUR_API_KEY' with the actual OpenWeatherMap API key\n",
        "API_KEY = 'f196358787321631bdd068560c038a4b'\n",
        "\n",
        "# List of major cities in India\n",
        "INDIAN_CITIES = ['Mumbai', 'Delhi', 'Kolkata', 'Chennai', 'Bengaluru', 'Hyderabad', 'Ahmedabad', 'Pune', 'Surat',\n",
        "                 'Jaipur', 'Lucknow', 'Kanpur', 'Nagpur', 'Indore', 'Thane', 'Bhopal', 'Visakhapatnam', 'Pimpri-Chinchwad',\n",
        "                 'Patna', 'Vadodara', 'Ludhiana', 'Agra', 'Coimbatore', 'Varanasi', 'Kochi', 'Amritsar', 'Nashik',\n",
        "                 'Vijayawada', 'Madurai', 'Meerut', 'Rajkot', 'Jabalpur', 'Srinagar', 'Allahabad', 'Howrah', 'Dhanbad',\n",
        "                 'Ranchi', 'Gwalior', 'Jodhpur', 'Raipur']\n",
        "# Add or remove cities as needed\n",
        "\n",
        "# OpenWeatherMap API endpoint for historical weather data (16 days forecast)\n",
        "api_url = 'http://api.openweathermap.org/data/2.5/forecast?q={}&appid={}'.format('{}', API_KEY)"
      ]
    },
    {
      "cell_type": "markdown",
      "metadata": {
        "id": "Vfm2rWExE-qs"
      },
      "source": [
        "FEATCH DATA FOR EACH CITY"
      ]
    },
    {
      "cell_type": "code",
      "execution_count": null,
      "metadata": {
        "id": "tR-zTGtWE-qs"
      },
      "outputs": [],
      "source": [
        "\n",
        "# Fetch data for each city\n",
        "weather_data = []\n",
        "for city in INDIAN_CITIES:\n",
        "    city_api_url = api_url.format(city)\n",
        "    response = requests.get(city_api_url)\n",
        "    data = response.json()\n",
        "\n",
        "    try:\n",
        "        for entry in data['list']:\n",
        "            timestamp = entry['dt']\n",
        "            date = datetime.utcfromtimestamp(timestamp)\n",
        "\n",
        "            # Numerical features\n",
        "            temperature = entry['main']['temp']\n",
        "            humidity = entry['main']['humidity']\n",
        "\n",
        "            # Categorical feature\n",
        "            description = entry['weather'][0]['description']\n",
        "\n",
        "            # Append to the dataset\n",
        "            weather_data.append({\n",
        "                'City': city,\n",
        "                'Timestamp': date,\n",
        "                'Temperature': temperature,\n",
        "                'Humidity': humidity,\n",
        "                'Description': description\n",
        "            })\n",
        "\n",
        "    except KeyError as e:\n",
        "        print(f\"KeyError for {city}: {e}. Please inspect the response structure and adjust the code accordingly.\")"
      ]
    },
    {
      "cell_type": "markdown",
      "metadata": {
        "id": "Y-ct1KaWE-qt"
      },
      "source": [
        "CREATING DATA SET USING DATA GATHERED FROM API"
      ]
    },
    {
      "cell_type": "code",
      "execution_count": null,
      "metadata": {
        "id": "J5LaV5HAE-qt",
        "outputId": "b8c2d286-6f73-4b58-90ed-30ee79b9ccd2"
      },
      "outputs": [
        {
          "name": "stdout",
          "output_type": "stream",
          "text": [
            "Data appended and saved to windia.csv\n"
          ]
        }
      ],
      "source": [
        "# Create a Pandas DataFrame if data extraction was successful\n",
        "if weather_data:\n",
        "    new_df = pd.DataFrame(weather_data)\n",
        "\n",
        "    # Load the existing dataset, if it exists\n",
        "    try:\n",
        "        existing_df = pd.read_csv('windia.csv')\n",
        "    except FileNotFoundError:\n",
        "        existing_df = pd.DataFrame()\n",
        "\n",
        "    # Concatenate the existing and new dataframes\n",
        "    combined_df = pd.concat([existing_df, new_df], ignore_index=True)\n",
        "\n",
        "    # Save the combined DataFrame to the same CSV file\n",
        "    csv_filename = 'C'\n",
        "    combined_df.to_csv(csv_filename, index=False)\n",
        "\n",
        "    print(f'Data appended and saved to {csv_filename}')\n",
        "else:\n",
        "    print(\"Failed.\")\n"
      ]
    },
    {
      "cell_type": "markdown",
      "metadata": {
        "id": "aBVQF6uPE-qv"
      },
      "source": [
        "READING FIRST FEW ROWS AND SUMMARY OF DATASET"
      ]
    },
    {
      "cell_type": "code",
      "execution_count": null,
      "metadata": {
        "id": "ySVwUX_2E-qv",
        "outputId": "4ef00b69-4aba-4280-b004-aeda7b530b4d"
      },
      "outputs": [
        {
          "name": "stdout",
          "output_type": "stream",
          "text": [
            "     City            Timestamp  Temperature  Humidity       Description\n",
            "0  Mumbai  2023-12-21 15:00:00       302.14        48  scattered clouds\n",
            "1  Mumbai  2023-12-21 18:00:00       301.30        52     broken clouds\n",
            "2  Mumbai  2023-12-21 21:00:00       300.31        56     broken clouds\n",
            "3  Mumbai  2023-12-22 00:00:00       298.94        56   overcast clouds\n",
            "4  Mumbai  2023-12-22 03:00:00       299.31        50   overcast clouds\n",
            "\n",
            "<class 'pandas.core.frame.DataFrame'>\n",
            "RangeIndex: 1600 entries, 0 to 1599\n",
            "Data columns (total 5 columns):\n",
            " #   Column       Non-Null Count  Dtype  \n",
            "---  ------       --------------  -----  \n",
            " 0   City         1600 non-null   object \n",
            " 1   Timestamp    1600 non-null   object \n",
            " 2   Temperature  1600 non-null   float64\n",
            " 3   Humidity     1600 non-null   int64  \n",
            " 4   Description  1600 non-null   object \n",
            "dtypes: float64(1), int64(1), object(3)\n",
            "memory usage: 62.6+ KB\n",
            "None\n"
          ]
        }
      ],
      "source": [
        "df = pd.read_csv(\"windia.csv\")\n",
        "\n",
        "print(df.head())\n",
        "print()\n",
        "\n",
        "print(df.info())"
      ]
    }
  ],
  "metadata": {
    "kernelspec": {
      "display_name": "Python 3",
      "language": "python",
      "name": "python3"
    },
    "language_info": {
      "codemirror_mode": {
        "name": "ipython",
        "version": 3
      },
      "file_extension": ".py",
      "mimetype": "text/x-python",
      "name": "python",
      "nbconvert_exporter": "python",
      "pygments_lexer": "ipython3",
      "version": "3.11.5"
    },
    "colab": {
      "provenance": []
    }
  },
  "nbformat": 4,
  "nbformat_minor": 0
}